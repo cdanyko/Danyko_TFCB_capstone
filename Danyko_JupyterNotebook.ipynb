{
 "cells": [
  {
   "cell_type": "markdown",
   "metadata": {},
   "source": [
    "#Cassidy's Jupyter Notebook\n",
    "Here we will use some Python!\n",
    "##Question:"
   ]
  },
  {
   "cell_type": "code",
   "execution_count": 1,
   "metadata": {},
   "outputs": [
    {
     "name": "stdout",
     "output_type": "stream",
     "text": [
      "Python 3.8.5\r\n"
     ]
    }
   ],
   "source": [
    "#Here is Cassidy Danyko's Jupyter Notebook\n",
    "!python -V"
   ]
  },
  {
   "cell_type": "code",
   "execution_count": 3,
   "metadata": {},
   "outputs": [
    {
     "name": "stdout",
     "output_type": "stream",
     "text": [
      "ds_test.csv   ds_train.csv  ds_whole.csv\r\n"
     ]
    }
   ],
   "source": [
    "%ls glaucoma_data/\n"
   ]
  },
  {
   "cell_type": "code",
   "execution_count": null,
   "metadata": {},
   "outputs": [],
   "source": [
    "#Which cell has the highest number of transcripts\n",
    "#Get cells 1-10\n",
    "#Make a list of transcript counts\n",
    "#max and min index \n",
    "\n",
    "total_transcripts = [] #empty list to populate\n",
    "# for loop to scan through matrix_file\n",
    "# i is what the machine loops to and inputs each time\n",
    "\n",
    "for i in range(1,11):\n",
    "    counter = get_total_count_for_cell(i, matrix_file)\n",
    "    total_transcripts.append(counter)\n",
    "    print('for cell number: ', i, ', the total feature count is', counter)\n",
    "\n",
    "\n",
    "#list index\n",
    "#Careful- lists start at 0; range starts at 1. We are working with a list\n",
    "print('Cell with maximum feature count:', total_transcripts.index(max(total_transcripts))+1, '| max feature count: ', (max(total_transcripts)))\n",
    "print('Cell with minimum feature count:', total_transcripts.index(max(total_transcripts))+1, '| min feature count: ', (max(total_transcripts)))\n",
    "\n",
    "\n",
    "#completed in collaboration with Jodeine with additional help from Cara and Jazmine\n",
    "\n"
   ]
  },
  {
   "cell_type": "code",
   "execution_count": null,
   "metadata": {},
   "outputs": [],
   "source": [
    "# Put counts of NA into a dictionary  using a for-loop\n",
    "# Again, use template above.\n",
    "NA_counts = {} #empty dictionary to populate; keys will be barcodes, values will be counts\n",
    "n_invalid = 0\n",
    "for seq in seqreads_str:\n",
    "    markerNA = read_NA(seq, bclen=16)\n",
    "    if not markerNA:\n",
    "        n_invalid += 1\n",
    "    elif markerNA not in NA_counts:\n",
    "        NA_counts[markerNA] = 1\n",
    "    else:\n",
    "        NA_counts[markerNA] += 1\n",
    "        \n",
    "print(f\"NA total count is {sum(NA_counts.values())}\") #dictionaries have keys and values- lets sum the values"
   ]
  },
  {
   "cell_type": "code",
   "execution_count": null,
   "metadata": {},
   "outputs": [],
   "source": [
    "import pandas #lets use panda tools\n",
    "\n",
    "#use template to organize NA barcodes(keys) and counts(values).\n",
    "#Sort by value ~ descending\n",
    "#get the max\n",
    "#use fstring so you can reference the NA_barcode_counts_df.max() function within the string\n",
    "\n",
    "NA_barcode_counts_df = pandas.Series(NA_counts).reset_index()\n",
    "NA_barcode_counts_df.columns = ['barcode', 'NA_counts']\n",
    "NA_barcode_counts_df.sort_values('NA_counts') #refer to the dictionaries values- we want to sort barcodes by values aka counts\n",
    "NA_barcode_counts_df.sort_values('NA_counts', ascending=False)\n",
    "print (f\"NA barcode with most counts {NA_barcode_counts_df.max()}\")\n"
   ]
  },
  {
   "cell_type": "code",
   "execution_count": null,
   "metadata": {},
   "outputs": [],
   "source": [
    "import re\n",
    "\n",
    "import Bio.SeqIO"
   ]
  },
  {
   "cell_type": "code",
   "execution_count": 4,
   "metadata": {},
   "outputs": [
    {
     "data": {
      "text/plain": [
       "'glaucoma_data/ds_whole.csv'"
      ]
     },
     "execution_count": 4,
     "metadata": {},
     "output_type": "execute_result"
    }
   ],
   "source": [
    "whole = 'glaucoma_data/ds_whole.csv'\n",
    "train = 'glaucoma_data/ds_train.csv'\n",
    "test = 'glaucoma_data/ds_test.csv'"
   ]
  }
 ],
 "metadata": {
  "kernelspec": {
   "display_name": "Python 3",
   "language": "python",
   "name": "python3"
  },
  "language_info": {
   "codemirror_mode": {
    "name": "ipython",
    "version": 3
   },
   "file_extension": ".py",
   "mimetype": "text/x-python",
   "name": "python",
   "nbconvert_exporter": "python",
   "pygments_lexer": "ipython3",
   "version": "3.8.5"
  }
 },
 "nbformat": 4,
 "nbformat_minor": 4
}
